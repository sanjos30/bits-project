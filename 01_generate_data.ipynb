{
  "cells": [
    {
      "cell_type": "code",
      "execution_count": null,
      "metadata": {},
      "outputs": [],
      "source": [
        "# Enhanced Financial Data Generation Pipeline for M.Tech Project\n",
        "\n",
        "## Key Improvements:\n",
        "1. **Scale**: Generate 1M+ transactions per user, 1000+ users\n",
        "2. **Realism**: Advanced behavioral patterns, seasonal trends, economic events\n",
        "3. **Complexity**: Multi-account, investment data, loan management\n",
        "4. **Query Diversity**: 50+ query types, complex financial reasoning\n",
        "5. **Commercial Features**: Risk scoring, fraud detection, personalization\n",
        "\n",
        "## Technical Innovation:\n",
        "- **Temporal Financial Embeddings**: Custom representation learning\n",
        "- **Behavioral Modeling**: Markov chains for realistic spending patterns  \n",
        "- **Economic Event Simulation**: Market crashes, inflation, job changes\n",
        "- **Multi-Modal Data**: Text, numerical, categorical, time-series\n"
      ]
    },
    {
      "cell_type": "markdown",
      "metadata": {
        "id": "5CrsmXBSHU9s"
      },
      "source": [
        "\n",
        "# **Install Dependencies**\n",
        "\n",
        "\n"
      ]
    },
    {
      "cell_type": "code",
      "execution_count": null,
      "metadata": {
        "colab": {
          "base_uri": "https://localhost:8080/"
        },
        "id": "gkIM8K-1E_y7",
        "outputId": "ccbf861f-c689-4d04-c594-560c000503e1"
      },
      "outputs": [
        {
          "name": "stdout",
          "output_type": "stream",
          "text": [
            "Requirement already satisfied: faker in /usr/local/lib/python3.11/dist-packages (37.5.3)\n",
            "Requirement already satisfied: pandas in /usr/local/lib/python3.11/dist-packages (2.2.2)\n",
            "Requirement already satisfied: tqdm in /usr/local/lib/python3.11/dist-packages (4.67.1)\n",
            "Requirement already satisfied: tzdata in /usr/local/lib/python3.11/dist-packages (from faker) (2025.2)\n",
            "Requirement already satisfied: numpy>=1.23.2 in /usr/local/lib/python3.11/dist-packages (from pandas) (2.0.2)\n",
            "Requirement already satisfied: python-dateutil>=2.8.2 in /usr/local/lib/python3.11/dist-packages (from pandas) (2.9.0.post0)\n",
            "Requirement already satisfied: pytz>=2020.1 in /usr/local/lib/python3.11/dist-packages (from pandas) (2025.2)\n",
            "Requirement already satisfied: six>=1.5 in /usr/local/lib/python3.11/dist-packages (from python-dateutil>=2.8.2->pandas) (1.17.0)\n"
          ]
        }
      ],
      "source": [
        "!pip install faker pandas tqdm numpy scikit-learn seaborn matplotlib plotly\n",
        "!pip install yfinance requests beautifulsoup4 nltk transformers\n",
        "!pip install pymc3 arviz  # For advanced statistical modeling\n"
      ]
    },
    {
      "cell_type": "markdown",
      "metadata": {
        "id": "GvLKFcT8He13"
      },
      "source": [
        "# Import Libraries + Set Config"
      ]
    },
    {
      "cell_type": "code",
      "execution_count": 9,
      "metadata": {
        "id": "R8ZYXwryHea-"
      },
      "outputs": [],
      "source": [
        "import pandas as pd\n",
        "import random\n",
        "import json\n",
        "from faker import Faker\n",
        "from datetime import datetime, timedelta\n",
        "from tqdm import tqdm\n",
        "\n",
        "fake = Faker()\n",
        "Faker.seed(42)\n",
        "random.seed(42)\n",
        "\n",
        "# Configuration\n",
        "NUM_MONTHS = 60\n",
        "TRANSACTIONS_PER_MONTH = 100000\n",
        "from datetime import date\n",
        "today = datetime.today()\n",
        "START_DATE = today - pd.DateOffset(months=60)  # Go 60 months back\n",
        "\n",
        "CATEGORIES = {\n",
        "    'groceries': ['Big Bazaar', 'Reliance Fresh', 'DMart'],\n",
        "    'rent': ['Landlord Transfer'],\n",
        "    'travel': ['Uber', 'Indigo', 'Ola'],\n",
        "    'food': ['Zomato', 'Swiggy', 'KFC'],\n",
        "    'utilities': ['Electricity Bill', 'Airtel', 'Water Bill'],\n",
        "    'shopping': ['Amazon', 'Flipkart'],\n",
        "    'emi': ['HDFC EMI', 'Bajaj Finance'],\n",
        "    'salary': ['Company Payroll'],\n",
        "}\n",
        "PAYMENT_MODES = ['NetBanking', 'UPI', 'Card', 'Cash']\n"
      ]
    },
    {
      "cell_type": "markdown",
      "metadata": {
        "id": "Do_pwjw1HsTU"
      },
      "source": [
        "# Generate Monthly Transactions"
      ]
    },
    {
      "cell_type": "code",
      "execution_count": 10,
      "metadata": {
        "id": "LTh_Sc8eHu1M"
      },
      "outputs": [],
      "source": [
        "from collections import defaultdict\n",
        "\n",
        "    ## this is done so that model doesn't train on unrealistic data Unrealistic amounts (like ₹14,80,159 on food)\n",
        "    ## Model may think “grocery spend = lakhs or crores” is normal - AVOID THIS USING BELOW LOGIC\n",
        "\n",
        "def generate_monthly_transactions(month_offset):\n",
        "    transactions = []\n",
        "    month_start = START_DATE + pd.DateOffset(months=month_offset)\n",
        "    current_date = month_start\n",
        "\n",
        "    category_amounts = {\n",
        "        'groceries': (500, 3000),\n",
        "        'rent': (8000, 25000),\n",
        "        'travel': (1000, 8000),\n",
        "        'food': (300, 2000),\n",
        "        'utilities': (500, 3000),\n",
        "        'shopping': (500, 10000),\n",
        "        'emi': (1000, 20000),\n",
        "        'salary': (30000, 80000)\n",
        "    }\n",
        "\n",
        "    max_txn_per_category = defaultdict(lambda: 0)\n",
        "    max_txn_limit = {\n",
        "        'groceries': 20,\n",
        "        'food': 15,\n",
        "        'rent': 1,\n",
        "        'salary': 1,\n",
        "        'travel': 10,\n",
        "        'shopping': 10,\n",
        "        'utilities': 6,\n",
        "        'emi': 2\n",
        "    }\n",
        "\n",
        "    for _ in range(TRANSACTIONS_PER_MONTH):\n",
        "        category = random.choices(list(CATEGORIES.keys()), weights=[20, 15, 10, 15, 10, 10, 10, 10])[0]\n",
        "        if max_txn_per_category[category] >= max_txn_limit[category]:\n",
        "            continue  # skip this category if too many entries\n",
        "\n",
        "        merchant = random.choice(CATEGORIES[category])\n",
        "        min_amt, max_amt = category_amounts[category]\n",
        "        amount = round(random.uniform(min_amt, max_amt), 2)\n",
        "        trans_type = 'credit' if category == 'salary' else 'debit'\n",
        "        payment_mode = random.choice(PAYMENT_MODES)\n",
        "        txn_date = current_date + timedelta(days=random.randint(0, 27))\n",
        "\n",
        "        txn = {\n",
        "            \"transaction_id\": fake.uuid4(),\n",
        "            \"date\": txn_date.strftime('%Y-%m-%d'),\n",
        "            \"merchant\": merchant,\n",
        "            \"category\": category,\n",
        "            \"amount\": amount,\n",
        "            \"currency\": \"INR\",\n",
        "            \"payment_mode\": payment_mode,\n",
        "            \"type\": trans_type\n",
        "        }\n",
        "        transactions.append(txn)\n",
        "        max_txn_per_category[category] += 1\n",
        "\n",
        "    return transactions\n",
        "\n",
        "\n"
      ]
    },
    {
      "cell_type": "markdown",
      "metadata": {
        "id": "cwQGJyNuHx0g"
      },
      "source": [
        "# Run this for X months and save to CSV"
      ]
    },
    {
      "cell_type": "code",
      "execution_count": 11,
      "metadata": {
        "colab": {
          "base_uri": "https://localhost:8080/",
          "height": 242
        },
        "id": "oy9CaHdNH0cn",
        "outputId": "88a15cef-708e-4ab4-8ff4-cc76646c43d1"
      },
      "outputs": [
        {
          "name": "stderr",
          "output_type": "stream",
          "text": [
            "Generating monthly transactions: 100%|██████████| 60/60 [00:14<00:00,  4.28it/s]"
          ]
        },
        {
          "name": "stdout",
          "output_type": "stream",
          "text": [
            "✅ Generated 3900 transactions across 60 months.\n"
          ]
        },
        {
          "name": "stderr",
          "output_type": "stream",
          "text": [
            "\n"
          ]
        },
        {
          "data": {
            "application/vnd.google.colaboratory.intrinsic+json": {
              "summary": "{\n  \"name\": \"df\",\n  \"rows\": 3900,\n  \"fields\": [\n    {\n      \"column\": \"transaction_id\",\n      \"properties\": {\n        \"dtype\": \"string\",\n        \"num_unique_values\": 3900,\n        \"samples\": [\n          \"62e7c1a6-12d2-4a06-89e1-cd138da00495\",\n          \"f480b91e-700e-4efc-a4ff-c31a5b86ea69\",\n          \"a34b6cf6-2053-4a42-b1af-db65b289f224\"\n        ],\n        \"semantic_type\": \"\",\n        \"description\": \"\"\n      }\n    },\n    {\n      \"column\": \"date\",\n      \"properties\": {\n        \"dtype\": \"object\",\n        \"num_unique_values\": 1507,\n        \"samples\": [\n          \"2022-07-16\",\n          \"2024-05-30\",\n          \"2021-12-03\"\n        ],\n        \"semantic_type\": \"\",\n        \"description\": \"\"\n      }\n    },\n    {\n      \"column\": \"merchant\",\n      \"properties\": {\n        \"dtype\": \"category\",\n        \"num_unique_values\": 18,\n        \"samples\": [\n          \"Electricity Bill\",\n          \"Big Bazaar\",\n          \"KFC\"\n        ],\n        \"semantic_type\": \"\",\n        \"description\": \"\"\n      }\n    },\n    {\n      \"column\": \"category\",\n      \"properties\": {\n        \"dtype\": \"category\",\n        \"num_unique_values\": 8,\n        \"samples\": [\n          \"groceries\",\n          \"food\",\n          \"utilities\"\n        ],\n        \"semantic_type\": \"\",\n        \"description\": \"\"\n      }\n    },\n    {\n      \"column\": \"amount\",\n      \"properties\": {\n        \"dtype\": \"number\",\n        \"std\": 7310.062264297444,\n        \"min\": 300.6,\n        \"max\": 79525.29,\n        \"num_unique_values\": 3880,\n        \"samples\": [\n          3096.61,\n          759.03,\n          2912.51\n        ],\n        \"semantic_type\": \"\",\n        \"description\": \"\"\n      }\n    },\n    {\n      \"column\": \"currency\",\n      \"properties\": {\n        \"dtype\": \"category\",\n        \"num_unique_values\": 1,\n        \"samples\": [\n          \"INR\"\n        ],\n        \"semantic_type\": \"\",\n        \"description\": \"\"\n      }\n    },\n    {\n      \"column\": \"payment_mode\",\n      \"properties\": {\n        \"dtype\": \"category\",\n        \"num_unique_values\": 4,\n        \"samples\": [\n          \"NetBanking\"\n        ],\n        \"semantic_type\": \"\",\n        \"description\": \"\"\n      }\n    },\n    {\n      \"column\": \"type\",\n      \"properties\": {\n        \"dtype\": \"category\",\n        \"num_unique_values\": 2,\n        \"samples\": [\n          \"credit\"\n        ],\n        \"semantic_type\": \"\",\n        \"description\": \"\"\n      }\n    }\n  ]\n}",
              "type": "dataframe",
              "variable_name": "df"
            },
            "text/html": [
              "\n",
              "  <div id=\"df-2b3d0b05-b6f7-444e-80af-62e07b8852bf\" class=\"colab-df-container\">\n",
              "    <div>\n",
              "<style scoped>\n",
              "    .dataframe tbody tr th:only-of-type {\n",
              "        vertical-align: middle;\n",
              "    }\n",
              "\n",
              "    .dataframe tbody tr th {\n",
              "        vertical-align: top;\n",
              "    }\n",
              "\n",
              "    .dataframe thead th {\n",
              "        text-align: right;\n",
              "    }\n",
              "</style>\n",
              "<table border=\"1\" class=\"dataframe\">\n",
              "  <thead>\n",
              "    <tr style=\"text-align: right;\">\n",
              "      <th></th>\n",
              "      <th>transaction_id</th>\n",
              "      <th>date</th>\n",
              "      <th>merchant</th>\n",
              "      <th>category</th>\n",
              "      <th>amount</th>\n",
              "      <th>currency</th>\n",
              "      <th>payment_mode</th>\n",
              "      <th>type</th>\n",
              "    </tr>\n",
              "  </thead>\n",
              "  <tbody>\n",
              "    <tr>\n",
              "      <th>0</th>\n",
              "      <td>bdd640fb-0667-4ad1-9c80-317fa3b1799d</td>\n",
              "      <td>2020-08-19</td>\n",
              "      <td>Electricity Bill</td>\n",
              "      <td>utilities</td>\n",
              "      <td>2353.88</td>\n",
              "      <td>INR</td>\n",
              "      <td>UPI</td>\n",
              "      <td>debit</td>\n",
              "    </tr>\n",
              "    <tr>\n",
              "      <th>1</th>\n",
              "      <td>23b8c1e9-3924-46de-beb1-3b9046685257</td>\n",
              "      <td>2020-08-30</td>\n",
              "      <td>Big Bazaar</td>\n",
              "      <td>groceries</td>\n",
              "      <td>2191.75</td>\n",
              "      <td>INR</td>\n",
              "      <td>NetBanking</td>\n",
              "      <td>debit</td>\n",
              "    </tr>\n",
              "    <tr>\n",
              "      <th>2</th>\n",
              "      <td>bd9c66b3-ad3c-4d6d-9a3d-1fa7bc8960a9</td>\n",
              "      <td>2020-08-28</td>\n",
              "      <td>Uber</td>\n",
              "      <td>travel</td>\n",
              "      <td>1655.87</td>\n",
              "      <td>INR</td>\n",
              "      <td>UPI</td>\n",
              "      <td>debit</td>\n",
              "    </tr>\n",
              "    <tr>\n",
              "      <th>3</th>\n",
              "      <td>972a8469-1641-4f82-8b9d-2434e465e150</td>\n",
              "      <td>2020-08-19</td>\n",
              "      <td>Water Bill</td>\n",
              "      <td>utilities</td>\n",
              "      <td>997.09</td>\n",
              "      <td>INR</td>\n",
              "      <td>Cash</td>\n",
              "      <td>debit</td>\n",
              "    </tr>\n",
              "    <tr>\n",
              "      <th>4</th>\n",
              "      <td>17fc695a-07a0-4a6e-8822-e8f36c031199</td>\n",
              "      <td>2020-09-05</td>\n",
              "      <td>Indigo</td>\n",
              "      <td>travel</td>\n",
              "      <td>6666.01</td>\n",
              "      <td>INR</td>\n",
              "      <td>NetBanking</td>\n",
              "      <td>debit</td>\n",
              "    </tr>\n",
              "  </tbody>\n",
              "</table>\n",
              "</div>\n",
              "    <div class=\"colab-df-buttons\">\n",
              "\n",
              "  <div class=\"colab-df-container\">\n",
              "    <button class=\"colab-df-convert\" onclick=\"convertToInteractive('df-2b3d0b05-b6f7-444e-80af-62e07b8852bf')\"\n",
              "            title=\"Convert this dataframe to an interactive table.\"\n",
              "            style=\"display:none;\">\n",
              "\n",
              "  <svg xmlns=\"http://www.w3.org/2000/svg\" height=\"24px\" viewBox=\"0 -960 960 960\">\n",
              "    <path d=\"M120-120v-720h720v720H120Zm60-500h600v-160H180v160Zm220 220h160v-160H400v160Zm0 220h160v-160H400v160ZM180-400h160v-160H180v160Zm440 0h160v-160H620v160ZM180-180h160v-160H180v160Zm440 0h160v-160H620v160Z\"/>\n",
              "  </svg>\n",
              "    </button>\n",
              "\n",
              "  <style>\n",
              "    .colab-df-container {\n",
              "      display:flex;\n",
              "      gap: 12px;\n",
              "    }\n",
              "\n",
              "    .colab-df-convert {\n",
              "      background-color: #E8F0FE;\n",
              "      border: none;\n",
              "      border-radius: 50%;\n",
              "      cursor: pointer;\n",
              "      display: none;\n",
              "      fill: #1967D2;\n",
              "      height: 32px;\n",
              "      padding: 0 0 0 0;\n",
              "      width: 32px;\n",
              "    }\n",
              "\n",
              "    .colab-df-convert:hover {\n",
              "      background-color: #E2EBFA;\n",
              "      box-shadow: 0px 1px 2px rgba(60, 64, 67, 0.3), 0px 1px 3px 1px rgba(60, 64, 67, 0.15);\n",
              "      fill: #174EA6;\n",
              "    }\n",
              "\n",
              "    .colab-df-buttons div {\n",
              "      margin-bottom: 4px;\n",
              "    }\n",
              "\n",
              "    [theme=dark] .colab-df-convert {\n",
              "      background-color: #3B4455;\n",
              "      fill: #D2E3FC;\n",
              "    }\n",
              "\n",
              "    [theme=dark] .colab-df-convert:hover {\n",
              "      background-color: #434B5C;\n",
              "      box-shadow: 0px 1px 3px 1px rgba(0, 0, 0, 0.15);\n",
              "      filter: drop-shadow(0px 1px 2px rgba(0, 0, 0, 0.3));\n",
              "      fill: #FFFFFF;\n",
              "    }\n",
              "  </style>\n",
              "\n",
              "    <script>\n",
              "      const buttonEl =\n",
              "        document.querySelector('#df-2b3d0b05-b6f7-444e-80af-62e07b8852bf button.colab-df-convert');\n",
              "      buttonEl.style.display =\n",
              "        google.colab.kernel.accessAllowed ? 'block' : 'none';\n",
              "\n",
              "      async function convertToInteractive(key) {\n",
              "        const element = document.querySelector('#df-2b3d0b05-b6f7-444e-80af-62e07b8852bf');\n",
              "        const dataTable =\n",
              "          await google.colab.kernel.invokeFunction('convertToInteractive',\n",
              "                                                    [key], {});\n",
              "        if (!dataTable) return;\n",
              "\n",
              "        const docLinkHtml = 'Like what you see? Visit the ' +\n",
              "          '<a target=\"_blank\" href=https://colab.research.google.com/notebooks/data_table.ipynb>data table notebook</a>'\n",
              "          + ' to learn more about interactive tables.';\n",
              "        element.innerHTML = '';\n",
              "        dataTable['output_type'] = 'display_data';\n",
              "        await google.colab.output.renderOutput(dataTable, element);\n",
              "        const docLink = document.createElement('div');\n",
              "        docLink.innerHTML = docLinkHtml;\n",
              "        element.appendChild(docLink);\n",
              "      }\n",
              "    </script>\n",
              "  </div>\n",
              "\n",
              "\n",
              "    <div id=\"df-14071c5e-3298-449e-9ba0-9620b8a83281\">\n",
              "      <button class=\"colab-df-quickchart\" onclick=\"quickchart('df-14071c5e-3298-449e-9ba0-9620b8a83281')\"\n",
              "                title=\"Suggest charts\"\n",
              "                style=\"display:none;\">\n",
              "\n",
              "<svg xmlns=\"http://www.w3.org/2000/svg\" height=\"24px\"viewBox=\"0 0 24 24\"\n",
              "     width=\"24px\">\n",
              "    <g>\n",
              "        <path d=\"M19 3H5c-1.1 0-2 .9-2 2v14c0 1.1.9 2 2 2h14c1.1 0 2-.9 2-2V5c0-1.1-.9-2-2-2zM9 17H7v-7h2v7zm4 0h-2V7h2v10zm4 0h-2v-4h2v4z\"/>\n",
              "    </g>\n",
              "</svg>\n",
              "      </button>\n",
              "\n",
              "<style>\n",
              "  .colab-df-quickchart {\n",
              "      --bg-color: #E8F0FE;\n",
              "      --fill-color: #1967D2;\n",
              "      --hover-bg-color: #E2EBFA;\n",
              "      --hover-fill-color: #174EA6;\n",
              "      --disabled-fill-color: #AAA;\n",
              "      --disabled-bg-color: #DDD;\n",
              "  }\n",
              "\n",
              "  [theme=dark] .colab-df-quickchart {\n",
              "      --bg-color: #3B4455;\n",
              "      --fill-color: #D2E3FC;\n",
              "      --hover-bg-color: #434B5C;\n",
              "      --hover-fill-color: #FFFFFF;\n",
              "      --disabled-bg-color: #3B4455;\n",
              "      --disabled-fill-color: #666;\n",
              "  }\n",
              "\n",
              "  .colab-df-quickchart {\n",
              "    background-color: var(--bg-color);\n",
              "    border: none;\n",
              "    border-radius: 50%;\n",
              "    cursor: pointer;\n",
              "    display: none;\n",
              "    fill: var(--fill-color);\n",
              "    height: 32px;\n",
              "    padding: 0;\n",
              "    width: 32px;\n",
              "  }\n",
              "\n",
              "  .colab-df-quickchart:hover {\n",
              "    background-color: var(--hover-bg-color);\n",
              "    box-shadow: 0 1px 2px rgba(60, 64, 67, 0.3), 0 1px 3px 1px rgba(60, 64, 67, 0.15);\n",
              "    fill: var(--button-hover-fill-color);\n",
              "  }\n",
              "\n",
              "  .colab-df-quickchart-complete:disabled,\n",
              "  .colab-df-quickchart-complete:disabled:hover {\n",
              "    background-color: var(--disabled-bg-color);\n",
              "    fill: var(--disabled-fill-color);\n",
              "    box-shadow: none;\n",
              "  }\n",
              "\n",
              "  .colab-df-spinner {\n",
              "    border: 2px solid var(--fill-color);\n",
              "    border-color: transparent;\n",
              "    border-bottom-color: var(--fill-color);\n",
              "    animation:\n",
              "      spin 1s steps(1) infinite;\n",
              "  }\n",
              "\n",
              "  @keyframes spin {\n",
              "    0% {\n",
              "      border-color: transparent;\n",
              "      border-bottom-color: var(--fill-color);\n",
              "      border-left-color: var(--fill-color);\n",
              "    }\n",
              "    20% {\n",
              "      border-color: transparent;\n",
              "      border-left-color: var(--fill-color);\n",
              "      border-top-color: var(--fill-color);\n",
              "    }\n",
              "    30% {\n",
              "      border-color: transparent;\n",
              "      border-left-color: var(--fill-color);\n",
              "      border-top-color: var(--fill-color);\n",
              "      border-right-color: var(--fill-color);\n",
              "    }\n",
              "    40% {\n",
              "      border-color: transparent;\n",
              "      border-right-color: var(--fill-color);\n",
              "      border-top-color: var(--fill-color);\n",
              "    }\n",
              "    60% {\n",
              "      border-color: transparent;\n",
              "      border-right-color: var(--fill-color);\n",
              "    }\n",
              "    80% {\n",
              "      border-color: transparent;\n",
              "      border-right-color: var(--fill-color);\n",
              "      border-bottom-color: var(--fill-color);\n",
              "    }\n",
              "    90% {\n",
              "      border-color: transparent;\n",
              "      border-bottom-color: var(--fill-color);\n",
              "    }\n",
              "  }\n",
              "</style>\n",
              "\n",
              "      <script>\n",
              "        async function quickchart(key) {\n",
              "          const quickchartButtonEl =\n",
              "            document.querySelector('#' + key + ' button');\n",
              "          quickchartButtonEl.disabled = true;  // To prevent multiple clicks.\n",
              "          quickchartButtonEl.classList.add('colab-df-spinner');\n",
              "          try {\n",
              "            const charts = await google.colab.kernel.invokeFunction(\n",
              "                'suggestCharts', [key], {});\n",
              "          } catch (error) {\n",
              "            console.error('Error during call to suggestCharts:', error);\n",
              "          }\n",
              "          quickchartButtonEl.classList.remove('colab-df-spinner');\n",
              "          quickchartButtonEl.classList.add('colab-df-quickchart-complete');\n",
              "        }\n",
              "        (() => {\n",
              "          let quickchartButtonEl =\n",
              "            document.querySelector('#df-14071c5e-3298-449e-9ba0-9620b8a83281 button');\n",
              "          quickchartButtonEl.style.display =\n",
              "            google.colab.kernel.accessAllowed ? 'block' : 'none';\n",
              "        })();\n",
              "      </script>\n",
              "    </div>\n",
              "\n",
              "    </div>\n",
              "  </div>\n"
            ],
            "text/plain": [
              "                         transaction_id        date          merchant  \\\n",
              "0  bdd640fb-0667-4ad1-9c80-317fa3b1799d  2020-08-19  Electricity Bill   \n",
              "1  23b8c1e9-3924-46de-beb1-3b9046685257  2020-08-30        Big Bazaar   \n",
              "2  bd9c66b3-ad3c-4d6d-9a3d-1fa7bc8960a9  2020-08-28              Uber   \n",
              "3  972a8469-1641-4f82-8b9d-2434e465e150  2020-08-19        Water Bill   \n",
              "4  17fc695a-07a0-4a6e-8822-e8f36c031199  2020-09-05            Indigo   \n",
              "\n",
              "    category   amount currency payment_mode   type  \n",
              "0  utilities  2353.88      INR          UPI  debit  \n",
              "1  groceries  2191.75      INR   NetBanking  debit  \n",
              "2     travel  1655.87      INR          UPI  debit  \n",
              "3  utilities   997.09      INR         Cash  debit  \n",
              "4     travel  6666.01      INR   NetBanking  debit  "
            ]
          },
          "execution_count": 11,
          "metadata": {},
          "output_type": "execute_result"
        }
      ],
      "source": [
        "all_transactions = []\n",
        "\n",
        "for m in tqdm(range(NUM_MONTHS), desc=\"Generating monthly transactions\"):\n",
        "    month_data = generate_monthly_transactions(m)\n",
        "    all_transactions.extend(month_data)\n",
        "\n",
        "df = pd.DataFrame(all_transactions)\n",
        "df.to_csv(\"user1_bank_statement.csv\", index=False)\n",
        "\n",
        "print(f\"✅ Generated {len(df)} transactions across {NUM_MONTHS} months.\")\n",
        "df.head()\n"
      ]
    },
    {
      "cell_type": "markdown",
      "metadata": {
        "id": "wSDjZKDiIm06"
      },
      "source": [
        "# Generate Q&A Pairs"
      ]
    },
    {
      "cell_type": "code",
      "execution_count": 12,
      "metadata": {
        "id": "dYla6KKkIodv"
      },
      "outputs": [],
      "source": [
        "from collections import defaultdict\n",
        "from dateutil.parser import parse\n",
        "\n",
        "# Load the data\n",
        "df = pd.read_csv(\"user1_bank_statement.csv\")\n",
        "df[\"date\"] = pd.to_datetime(df[\"date\"])\n",
        "df[\"month\"] = df[\"date\"].dt.strftime('%B %Y')\n",
        "\n",
        "# Group by month and category\n",
        "monthly_summary = defaultdict(lambda: defaultdict(float))\n",
        "\n",
        "for _, row in df.iterrows():\n",
        "    if row['type'] == 'debit':\n",
        "        monthly_summary[row['month']][row['category']] += row['amount']\n",
        "\n",
        "# Sort months chronologically\n",
        "months = sorted(monthly_summary.keys(), key=lambda x: parse(f\"01 {x}\"))\n",
        "\n",
        "qa_data = []\n",
        "\n",
        "for i in range(1, len(months)):\n",
        "    this_month = months[i]\n",
        "    prev_month = months[i - 1]\n",
        "\n",
        "    for cat in CATEGORIES.keys():\n",
        "        current_spend = monthly_summary[this_month].get(cat, 0.0)\n",
        "        previous_spend = monthly_summary[prev_month].get(cat, 0.0)\n",
        "\n",
        "        # 1. Total spent this month\n",
        "        qa_data.append({\n",
        "            \"prompt\": f\"What was my total spend on {cat} in {this_month}?\",\n",
        "            \"response\": f\"You spent ₹{current_spend:.2f} on {cat} in {this_month}.\"\n",
        "        })\n",
        "\n",
        "        # 2. Comparison to previous month (Skip comparison if previous spend is tiny)\n",
        "        if previous_spend > 100:\n",
        "            change = ((current_spend - previous_spend) / previous_spend) * 100\n",
        "            if change > 0:\n",
        "                resp = f\"You spent ₹{current_spend:.2f} on {cat} in {this_month}, which is {abs(change):.1f}% more than {prev_month}.\"\n",
        "            else:\n",
        "                resp = f\"You spent ₹{current_spend:.2f} on {cat} in {this_month}, which is {abs(change):.1f}% less than {prev_month}.\"\n",
        "\n",
        "            qa_data.append({\n",
        "                \"prompt\": f\"Did I overspend on {cat} in {this_month} compared to {prev_month}?\",\n",
        "                \"response\": resp\n",
        "            })\n"
      ]
    },
    {
      "cell_type": "markdown",
      "metadata": {
        "id": "o2wFBHAfIsyl"
      },
      "source": [
        "# Save the Q&A as JSONL"
      ]
    },
    {
      "cell_type": "code",
      "execution_count": 13,
      "metadata": {
        "colab": {
          "base_uri": "https://localhost:8080/"
        },
        "id": "6tPzbVFYIsce",
        "outputId": "1e2c0698-82f9-4606-a8ac-53e015b80715"
      },
      "outputs": [
        {
          "name": "stdout",
          "output_type": "stream",
          "text": [
            "✅ Generated 879 Q&A pairs and saved to user1_qa_dataset.jsonl\n"
          ]
        }
      ],
      "source": [
        "with open(\"user1_qa_dataset.jsonl\", \"w\") as f:\n",
        "    for qa in qa_data:\n",
        "        f.write(json.dumps(qa) + \"\\n\")\n",
        "\n",
        "print(f\"✅ Generated {len(qa_data)} Q&A pairs and saved to user1_qa_dataset.jsonl\")\n"
      ]
    },
    {
      "cell_type": "code",
      "execution_count": 14,
      "metadata": {
        "colab": {
          "base_uri": "https://localhost:8080/"
        },
        "id": "hHJeVLG3q5-p",
        "outputId": "46b7776c-a11d-48f2-e096-3f1e447bf6c0"
      },
      "outputs": [
        {
          "name": "stdout",
          "output_type": "stream",
          "text": [
            "Mounted at /content/drive\n"
          ]
        }
      ],
      "source": [
        "# save to Google Drive\n",
        "\n",
        "from google.colab import drive\n",
        "drive.mount('/content/drive')\n",
        "\n",
        "!cp /content/user1_qa_dataset.jsonl /content/drive/MyDrive/user1_qa_dataset.json\n"
      ]
    }
  ],
  "metadata": {
    "colab": {
      "provenance": []
    },
    "kernelspec": {
      "display_name": "Python 3",
      "name": "python3"
    },
    "language_info": {
      "name": "python"
    }
  },
  "nbformat": 4,
  "nbformat_minor": 0
}
