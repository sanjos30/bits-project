{
  "nbformat": 4,
  "nbformat_minor": 0,
  "metadata": {
    "colab": {
      "provenance": []
    },
    "kernelspec": {
      "name": "python3",
      "display_name": "Python 3"
    },
    "language_info": {
      "name": "python"
    }
  },
  "cells": [
    {
      "cell_type": "markdown",
      "source": [
        "# Install Dependencies"
      ],
      "metadata": {
        "id": "ReuK0091pUR3"
      }
    },
    {
      "cell_type": "code",
      "execution_count": null,
      "metadata": {
        "id": "8zAVs6jYpPBE",
        "colab": {
          "base_uri": "https://localhost:8080/"
        },
        "outputId": "aebd4bab-4786-4193-fb1e-b662aa2f3cc8"
      },
      "outputs": [
        {
          "output_type": "stream",
          "name": "stdout",
          "text": [
            "\u001b[2K   \u001b[90m━━━━━━━━━━━━━━━━━━━━━━━━━━━━━━━━━━━━━━━━\u001b[0m \u001b[32m61.3/61.3 MB\u001b[0m \u001b[31m9.6 MB/s\u001b[0m eta \u001b[36m0:00:00\u001b[0m\n",
            "\u001b[2K   \u001b[90m━━━━━━━━━━━━━━━━━━━━━━━━━━━━━━━━━━━━━━━━\u001b[0m \u001b[32m363.4/363.4 MB\u001b[0m \u001b[31m4.8 MB/s\u001b[0m eta \u001b[36m0:00:00\u001b[0m\n",
            "\u001b[2K   \u001b[90m━━━━━━━━━━━━━━━━━━━━━━━━━━━━━━━━━━━━━━━━\u001b[0m \u001b[32m13.8/13.8 MB\u001b[0m \u001b[31m45.2 MB/s\u001b[0m eta \u001b[36m0:00:00\u001b[0m\n",
            "\u001b[2K   \u001b[90m━━━━━━━━━━━━━━━━━━━━━━━━━━━━━━━━━━━━━━━━\u001b[0m \u001b[32m24.6/24.6 MB\u001b[0m \u001b[31m37.0 MB/s\u001b[0m eta \u001b[36m0:00:00\u001b[0m\n",
            "\u001b[2K   \u001b[90m━━━━━━━━━━━━━━━━━━━━━━━━━━━━━━━━━━━━━━━━\u001b[0m \u001b[32m883.7/883.7 kB\u001b[0m \u001b[31m42.5 MB/s\u001b[0m eta \u001b[36m0:00:00\u001b[0m\n",
            "\u001b[2K   \u001b[91m━━━━━━━━━━━━━━━━━━━━━━━━━━━━━━━━━━━━━━━\u001b[0m\u001b[91m╸\u001b[0m \u001b[32m664.8/664.8 MB\u001b[0m \u001b[31m72.4 MB/s\u001b[0m eta \u001b[36m0:00:01\u001b[0m"
          ]
        }
      ],
      "source": [
        "!pip install -q transformers datasets peft bitsandbytes accelerate\n",
        "!pip install -q einops sentencepiece\n"
      ]
    },
    {
      "cell_type": "markdown",
      "source": [
        "# Authenticate with Hugging Face (Optional)\n"
      ],
      "metadata": {
        "id": "lc_99Rq-p963"
      }
    },
    {
      "cell_type": "code",
      "source": [
        "# No code for now\n",
        "## from huggingface_hub import login\n",
        "## login()  #\n"
      ],
      "metadata": {
        "id": "NfdBiUS1qAF2"
      },
      "execution_count": null,
      "outputs": []
    },
    {
      "cell_type": "markdown",
      "source": [
        "# Choose Base Model"
      ],
      "metadata": {
        "id": "vGbRXlg1qGNR"
      }
    },
    {
      "cell_type": "code",
      "source": [
        "base_model_id = \"TinyLlama/TinyLlama-1.1B-Chat-v1.0\"\n"
      ],
      "metadata": {
        "id": "2OSwFFkHqIps"
      },
      "execution_count": null,
      "outputs": []
    },
    {
      "cell_type": "markdown",
      "source": [
        "# Convert Q&A JSON to SFT Format (for HuggingFace)"
      ],
      "metadata": {
        "id": "-CO-KACFqodm"
      }
    },
    {
      "cell_type": "code",
      "source": [
        "import json\n",
        "\n",
        "from google.colab import drive\n",
        "drive.mount('/content/drive')\n",
        "\n",
        "# Copy file from Drive to local path (if needed)\n",
        "!cp /content/drive/MyDrive/user1_qa_dataset.json /content/user1_qa_dataset.json\n",
        "\n",
        "# Properly load JSON Lines (each line is its own JSON object)\n",
        "qa_data = []\n",
        "with open(\"/content/user1_qa_dataset.json\", \"r\", encoding=\"utf-8\") as f:\n",
        "    for line in f:\n",
        "        qa_data.append(json.loads(line.strip()))\n",
        "\n",
        "# Convert to SFT format\n",
        "sft_data = []\n",
        "for qa in qa_data:\n",
        "    sft_data.append({\n",
        "        \"instruction\": qa[\"prompt\"],\n",
        "        \"input\": \"\",\n",
        "        \"output\": qa[\"response\"]\n",
        "    })\n",
        "\n",
        "# Save SFT-formatted output\n",
        "with open(\"user1_sft.json\", \"w\", encoding=\"utf-8\") as f:\n",
        "    for line in sft_data:\n",
        "        f.write(json.dumps(line, ensure_ascii=False) + \"\\n\")\n",
        "\n",
        "!cp user1_sft.json /content/drive/MyDrive/user1_sft.json\n"
      ],
      "metadata": {
        "id": "p9rkq-Zbqrt8"
      },
      "execution_count": null,
      "outputs": []
    }
  ]
}